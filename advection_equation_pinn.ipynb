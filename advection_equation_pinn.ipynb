{
 "cells": [
  {
   "cell_type": "markdown",
   "metadata": {
    "colab_type": "text",
    "id": "view-in-github"
   },
   "source": [
    "<a href=\"https://colab.research.google.com/github/KaraNoSora/SE207_WI22_Course_Materials/blob/main/Lab8_DD_PINN/SE_207_Computer_Assignment_7_Student.ipynb\" target=\"_parent\"><img src=\"https://colab.research.google.com/assets/colab-badge.svg\" alt=\"Open In Colab\"/></a>"
   ]
  },
  {
   "cell_type": "markdown",
   "metadata": {
    "id": "MZ8iZenk-kaH"
   },
   "source": [
    "Problem -- PINN\n",
    "---\n",
    "\n",
    "Consider a one-way wave equation in 1D\n",
    "\n",
    "\\begin{equation}\n",
    "    \\frac{\\partial u}{\\partial t} + c \\frac{\\partial u}{\\partial x} = 0,\\ t\\in(0, 6]\\ {\\rm and}\\ x \\in (-5, 5) \n",
    "\\end{equation}\n",
    "\n",
    "where $c=0.5$ is a constant for wave velocity. The initial condition of this problem is \n",
    "\n",
    "\\begin{equation}\n",
    "    u(x, 0) = \\cos x + \\sin 0.5x\n",
    "\\end{equation}\n",
    "\n",
    "The analytical solution for this problem is\n",
    "\n",
    "\\begin{equation}\n",
    "    u(x, t) = \\cos (x - ct) + \\sin 0.5(x - ct)\n",
    "\\end{equation}"
   ]
  },
  {
   "cell_type": "code",
   "execution_count": 72,
   "metadata": {
    "id": "TtsQmLa2-T2D"
   },
   "outputs": [],
   "source": [
    "import torch\n",
    "import numpy as np\n",
    "import matplotlib.pyplot as plt\n",
    "\n",
    "global mseloss\n",
    "mseloss = torch.nn.MSELoss()"
   ]
  },
  {
   "cell_type": "markdown",
   "metadata": {
    "id": "acwEPN1fSTMd"
   },
   "source": [
    "Below is a block creating the measured data. We assume there are fictitious oscillation records of $u(x, t)$ at $x = -4.8, -2.5, 0, 2.5,\\ {\\rm and}\\ 4.8\\ (0<t\\leq 6)$."
   ]
  },
  {
   "cell_type": "code",
   "execution_count": 79,
   "metadata": {
    "id": "s749r5VY37ZS"
   },
   "outputs": [],
   "source": [
    "# We assume these 50 values are from measurements.\n",
    "def create_u():\n",
    "    t_his = torch.linspace(0, 6, 120, requires_grad=True)\n",
    "    t_base = torch.zeros(120, 1)\n",
    "    t_base[:, 0] = t_his.clone()\n",
    "    t_m = torch.cat((t_base, t_base, t_base, t_base, t_base), axis=0)\n",
    "\n",
    "    one_vec = torch.ones_like(t_base, requires_grad=True)\n",
    "    x_m = torch.cat((-4.8 * one_vec, -2.5 * one_vec, 0.0 * one_vec, 2.5 * one_vec, 4.8 * one_vec), axis=0)\n",
    "\n",
    "    u = torch.cos(x_m.detach() - 0.5 * t_m.detach()) + torch.sin(0.5 * (x_m.detach() - 0.5 * t_m.detach()))\n",
    "    return u, torch.cat((x_m, t_m), dim=1)"
   ]
  },
  {
   "cell_type": "markdown",
   "metadata": {
    "id": "augk3UAsS49i"
   },
   "source": [
    "Use the record and PINN to infer the wave function $u(x, t)$."
   ]
  },
  {
   "cell_type": "markdown",
   "metadata": {
    "id": "1Jlg_VmcEE6A"
   },
   "source": [
    "**a)** Write down the loss function for this PINN problem.\n",
    "\n",
    "**Hints**: you need to sample a set of spatial coordinates $\\{x\\}$ for the initial condition."
   ]
  },
  {
   "cell_type": "markdown",
   "metadata": {
    "id": "cRGiAMxIEIyx"
   },
   "source": []
  },
  {
   "cell_type": "markdown",
   "metadata": {
    "id": "jesfQ4rtA7bK"
   },
   "source": [
    "**b)** We assume $c = 0.5$. Do the following"
   ]
  },
  {
   "cell_type": "markdown",
   "metadata": {
    "id": "O_NMMiAUUGue"
   },
   "source": [
    "1. Write an ANN that you think is sufficient for this problem. You can tune the number of layers and neurons based on the training history."
   ]
  },
  {
   "cell_type": "code",
   "execution_count": 85,
   "metadata": {
    "id": "hEnqUagTBX4-"
   },
   "outputs": [],
   "source": [
    "# complete this part\n",
    "class PINN(torch.nn.Module):\n",
    "    def __init__(self):\n",
    "        super(PINN, self).__init__()\n",
    "        self.fc1 = torch.nn.Linear(in_features=2, out_features=30)\n",
    "        self.fc2 = torch.nn.Linear(in_features=30, out_features=1)\n",
    "        self.act = torch.nn.Tanh()\n",
    "\n",
    "    def forward(self, x):\n",
    "        out = self.fc1(x)\n",
    "        out = self.act(out)\n",
    "        out = self.fc2(out)\n",
    "        return out"
   ]
  },
  {
   "cell_type": "markdown",
   "metadata": {
    "id": "-yYaok2YVfZ5"
   },
   "source": [
    "Below is the class for the wave equation, you do not have to change it."
   ]
  },
  {
   "cell_type": "code",
   "execution_count": 86,
   "metadata": {
    "cellView": "form",
    "id": "i0tV4ElPUR6P"
   },
   "outputs": [],
   "source": [
    "#@title Dataset of Points\n",
    "class Wave_dataset(object):\n",
    "    \n",
    "    def __init__(self, n_col, n_ic):\n",
    "        \n",
    "        # The number of collocation points\n",
    "        self.n_col = n_col\n",
    "        # The number of sampled initial points\n",
    "        self.n_ic = n_ic\n",
    "\n",
    "        # collocation points\n",
    "        # uniformly sample x in (-5, 5)\n",
    "        self.x_c = 10 * torch.rand(n_col, 1, requires_grad=True) - 5\n",
    "        # uniformly sample t in (0, 6)\n",
    "        self.t_c = 6 * torch.rand(n_col, 1, requires_grad=True)\n",
    "\n",
    "        # initial points\n",
    "        self.x_i = 10 * torch.rand(self.n_ic, 1, requires_grad=True) - 5\n",
    "        self.t_i = torch.zeros_like(self.x_i, requires_grad=False)\n",
    "\n",
    "        # concatenate the spatial and time variables together: \n",
    "        # Column 1: x, Column 2: t\n",
    "        self.Xc = torch.cat((self.x_c, self.t_c), dim=1)\n",
    "        self.Xi = torch.cat((self.x_i, self.t_i), dim=1)\n",
    "\n",
    "        # zero source term\n",
    "        self.f = torch.zeros(self.Xc.shape[0], 1)\n",
    "\n",
    "        # initial condition evaulations for reference\n",
    "        self.Ui = torch.cos(self.x_i.detach()) + torch.sin(0.5 * self.x_i.detach())\n",
    "\n",
    "        # measured points\n",
    "        self.Um, self.Xm = create_u()"
   ]
  },
  {
   "cell_type": "markdown",
   "metadata": {
    "id": "vEcssHIsogS6"
   },
   "source": [
    "2. Complete the PINN loss function below."
   ]
  },
  {
   "cell_type": "code",
   "execution_count": 87,
   "metadata": {
    "id": "0M0ZPRdGof16"
   },
   "outputs": [],
   "source": [
    "def pinn_loss(model, dset, mse=mseloss):\n",
    "    \n",
    "    #Complete this function to return the total cost\n",
    "    u_pred    = model(dset.Xc)       # predicted u at collocation points\n",
    "    u_pred_ic = model(dset.Xi)       # predicted u for the initial points (t = 0)\n",
    "    u_pred_m  = model(dset.Xm)       # predicted u at measured points\n",
    "\n",
    "    grad_u = torch.autograd.grad(u_pred, dset.Xc, grad_outputs=torch.ones_like(u_pred), create_graph=True)\n",
    "    \n",
    "    # a vector of the LHS of the PDE dudt + 0.5du/dx\n",
    "    lhs = torch.add(grad_u[0][:, 1:2], 0.5*grad_u[0][:, 0:1])\n",
    "\n",
    "    # MSE of the PDE residual\n",
    "    MSEf = mse(lhs, dset.f)  \n",
    "    \n",
    "    # MSE of the initial condition                        \n",
    "    MSEb = mse(u_pred_ic, torch.cos(dset.Xi[:,0:1].detach()) + torch.sin(0.5*dset.Xi[:,0:1].detach()))\n",
    "    \n",
    "    # MSE of the measured u\n",
    "    MSEu = mse(dset.Um, u_pred_m)\n",
    "    \n",
    "    loss = MSEf + 5*MSEb +  MSEu\n",
    "    \n",
    "    return loss"
   ]
  },
  {
   "cell_type": "code",
   "execution_count": 93,
   "metadata": {
    "cellView": "form",
    "id": "zxXki7W7U-hT"
   },
   "outputs": [],
   "source": [
    "#@title train_pinn()\n",
    "\n",
    "def train_pinn(model, dset, epochs=2000):\n",
    "    train_losses = np.empty([epochs, 1])\n",
    "    min_loss = 1e4\n",
    "\n",
    "    criterion = pinn_loss\n",
    "    optimizer = torch.optim.Adam(model.parameters(), lr=1e-1)\n",
    "\n",
    "    for epoch in range(epochs):\n",
    "        # adjust learning rate\n",
    "        if epoch >= 50:\n",
    "            if epoch % 100 == 0:\n",
    "                for param_group in optimizer.param_groups:\n",
    "                    param_group['lr'] *= 0.9\n",
    "\n",
    "        # train for one epoch\n",
    "        loss = pinn_loss(model, dset)\n",
    "        train_losses[epoch] = loss.detach().numpy()\n",
    "\n",
    "        if loss < min_loss:\n",
    "            best_model = model\n",
    "            min_loss = loss.clone()\n",
    "\n",
    "        if epoch % 200 == 0:\n",
    "            print('Epoch: %d -- Loss: %.5f' %(epoch, loss))\n",
    "\n",
    "        # compute gradient and do the SGD step\n",
    "        optimizer.zero_grad()\n",
    "        loss.backward(retain_graph=True)\n",
    "        optimizer.step()\n",
    "        \n",
    "    train_losses.tofile('train_loss' + '.csv', sep=\",\", format=\"%10.5f\")\n",
    "\n",
    "    fig, ax = plt.subplots(1, 1, figsize=(6, 4))\n",
    "    ax.plot(train_losses)\n",
    "    ax.set_xlabel('epoch')\n",
    "    ax.set_ylabel('MSE')\n",
    "    ax.title.set_text('Training loss')\n",
    "    ax.set_yscale('log')\n",
    "    return best_model"
   ]
  },
  {
   "cell_type": "markdown",
   "metadata": {
    "id": "E9WEEUqPVojh"
   },
   "source": [
    "3. Train the PINN using the code block below. To get a good result, you may change your network's architecture or set the learning rate decay manually (the code in the Lab 8 notebook shows how to manually set the learning rate).  "
   ]
  },
  {
   "cell_type": "code",
   "execution_count": 97,
   "metadata": {
    "id": "GB9DgNKYoqg8"
   },
   "outputs": [
    {
     "name": "stdout",
     "output_type": "stream",
     "text": [
      "Epoch: 0 -- Loss: 8.51625\n",
      "Epoch: 200 -- Loss: 0.01453\n",
      "Epoch: 400 -- Loss: 0.00322\n",
      "Epoch: 600 -- Loss: 0.00255\n",
      "Epoch: 800 -- Loss: 0.00213\n",
      "Epoch: 1000 -- Loss: 0.00187\n",
      "Epoch: 1200 -- Loss: 0.00172\n",
      "Epoch: 1400 -- Loss: 0.00159\n",
      "Epoch: 1600 -- Loss: 0.00149\n",
      "Epoch: 1800 -- Loss: 0.00140\n",
      "Epoch: 2000 -- Loss: 0.00132\n",
      "Epoch: 2200 -- Loss: 0.00125\n",
      "Epoch: 2400 -- Loss: 0.00120\n",
      "Epoch: 2600 -- Loss: 0.00114\n",
      "Epoch: 2800 -- Loss: 0.00110\n",
      "Epoch: 3000 -- Loss: 0.00106\n",
      "Epoch: 3200 -- Loss: 0.00102\n",
      "Epoch: 3400 -- Loss: 0.00099\n",
      "Epoch: 3600 -- Loss: 0.00096\n",
      "Epoch: 3800 -- Loss: 0.00093\n",
      "Epoch: 4000 -- Loss: 0.00091\n",
      "Epoch: 4200 -- Loss: 0.00089\n",
      "Epoch: 4400 -- Loss: 0.00087\n",
      "Epoch: 4600 -- Loss: 0.00086\n",
      "Epoch: 4800 -- Loss: 0.00084\n"
     ]
    },
    {
     "data": {
      "text/plain": [
       "PINN(\n",
       "  (fc1): Linear(in_features=2, out_features=30, bias=True)\n",
       "  (fc2): Linear(in_features=30, out_features=1, bias=True)\n",
       "  (act): Tanh()\n",
       ")"
      ]
     },
     "execution_count": 97,
     "metadata": {},
     "output_type": "execute_result"
    },
    {
     "data": {
      "image/png": "[encoded data removed]",
      "text/plain": [
       "<Figure size 432x288 with 1 Axes>"
      ]
     },
     "metadata": {
      "needs_background": "light"
     },
     "output_type": "display_data"
    }
   ],
   "source": [
    "pinnset = Wave_dataset(n_col=8000, n_ic=500)\n",
    "model = PINN()\n",
    "train_pinn(model, pinnset, epochs=5000)"
   ]
  },
  {
   "cell_type": "markdown",
   "metadata": {
    "id": "4Nf_MfkpBStM"
   },
   "source": [
    "**c)** Plot the analytical soluton $u(x, t)$ and PINN solution $\\hat{u}(x, t)$ vs $x$ at $t = 0$, $t = 1$, and $t = 2.5$, and $t = 6$."
   ]
  },
  {
   "cell_type": "code",
   "execution_count": 98,
   "metadata": {
    "id": "5pKg2WzmVM3A"
   },
   "outputs": [],
   "source": [
    "tp = np.arange(0, 6, 0.1)\n",
    "xp = np.arange(-5, 5, 0.1)\n",
    "T, X = np.meshgrid(tp, xp)\n",
    "Z = np.ndarray([len(xp), len(tp)])\n",
    "E = np.ndarray([len(xp), len(tp)])\n",
    "\n",
    "for idx in range(len(xp)):\n",
    "    for idy in range(len(tp)):\n",
    "        inp = torch.tensor([X[idx, idy], T[idx, idy]], dtype=torch.float)\n",
    "        Z[idx, idy] = model(inp)"
   ]
  },
  {
   "cell_type": "code",
   "execution_count": 99,
   "metadata": {},
   "outputs": [
    {
     "data": {
      "text/plain": [
       "Text(0, 0.5, '$u$')"
      ]
     },
     "execution_count": 99,
     "metadata": {},
     "output_type": "execute_result"
    },
    {
     "data": {
      "image/png": "[encoded data removed]",
      "text/plain": [
       "<Figure size 360x288 with 1 Axes>"
      ]
     },
     "metadata": {
      "needs_background": "light"
     },
     "output_type": "display_data"
    },
    {
     "data": {
      "image/png": "[encoded data removed]",
      "text/plain": [
       "<Figure size 360x288 with 1 Axes>"
      ]
     },
     "metadata": {
      "needs_background": "light"
     },
     "output_type": "display_data"
    },
    {
     "data": {
      "image/png": "[encoded data removed]",
      "text/plain": [
       "<Figure size 360x288 with 1 Axes>"
      ]
     },
     "metadata": {
      "needs_background": "light"
     },
     "output_type": "display_data"
    },
    {
     "data": {
      "image/png": "[encoded data removed]",
      "text/plain": [
       "<Figure size 360x288 with 1 Axes>"
      ]
     },
     "metadata": {
      "needs_background": "light"
     },
     "output_type": "display_data"
    }
   ],
   "source": [
    "fig, ax = plt.subplots(1, 1, figsize=(5, 4))\n",
    "cp1 = plt.plot(X[:,int(0/0.01)], Z[:,int(0/0.01)], 'r-')\n",
    "cp2 = plt.plot(X[:,0], np.cos(X[:,0] - 0.5*0) + np.sin(0.5*(X[:,0]-0.5*0)) , 'k--')\n",
    "ax.set_title('PINN solution')\n",
    "ax.set_xlabel('$x$')\n",
    "ax.set_ylabel('$u$')\n",
    "\n",
    "fig, ax = plt.subplots(1, 1, figsize=(5, 4))\n",
    "cp1 = plt.plot(X[:,int(1/0.1)], Z[:,int(1/0.1)], 'r-')\n",
    "cp2 = plt.plot(X[:,0], np.cos(X[:,0] - 0.5*1) + np.sin(0.5*(X[:,0]-0.5*1)) , 'k--')\n",
    "# ax.scatter(x_record[0, :], x_record[1, :], linewidths=0.07)\n",
    "ax.set_title('PINN solution')\n",
    "ax.set_xlabel('$x$')\n",
    "ax.set_ylabel('$u$')\n",
    "\n",
    "fig, ax = plt.subplots(1, 1, figsize=(5, 4))\n",
    "cp1 = plt.plot(X[:,int(2.5/0.1)], Z[:,int(2.5/0.1)], 'r-')\n",
    "cp2 = plt.plot(X[:,0], np.cos(X[:,0] - 0.5*2.5) + np.sin(0.5*(X[:,0]-0.5*2.5)) , 'k--')\n",
    "# ax.scatter(x_record[0, :], x_record[1, :], linewidths=0.07)\n",
    "ax.set_title('PINN solution')\n",
    "ax.set_xlabel('$x$')\n",
    "ax.set_ylabel('$u$')\n",
    "\n",
    "fig, ax = plt.subplots(1, 1, figsize=(5, 4))\n",
    "cp1 = plt.plot(X[:,int(6/0.1)-1], Z[:,int(6/0.1)-1], 'r-')\n",
    "cp2 = plt.plot(X[:,0], np.cos(X[:,0] - 0.5*6) + np.sin(0.5*(X[:,0]-0.5*6)) , 'k--')\n",
    "# ax.scatter(x_record[0, :], x_record[1, :], linewidths=0.07)\n",
    "ax.set_title('PINN solution')\n",
    "ax.set_xlabel('$x$')\n",
    "ax.set_ylabel('$u$')\n",
    "\n",
    "# # ax.legend()\n",
    "# plt.show()"
   ]
  }
 ],
 "metadata": {
  "colab": {
   "authorship_tag": "ABX9TyNFSaaIvvdMyq99YJ/c5xw8",
   "include_colab_link": true,
   "mount_file_id": "https://github.com/KaraNoSora/SE207_WI22_Course_Materials/blob/main/Lab7_RNN/SE_207_Computer_Assignment_6.ipynb",
   "name": "SE 207 Computer Assignment 7.ipynb",
   "provenance": []
  },
  "kernelspec": {
   "display_name": "Python 3 (ipykernel)",
   "language": "python",
   "name": "python3"
  },
  "language_info": {
   "codemirror_mode": {
    "name": "ipython",
    "version": 3
   },
   "file_extension": ".py",
   "mimetype": "text/x-python",
   "name": "python",
   "nbconvert_exporter": "python",
   "pygments_lexer": "ipython3",
   "version": "3.9.5"
  }
 },
 "nbformat": 4,
 "nbformat_minor": 1
}
